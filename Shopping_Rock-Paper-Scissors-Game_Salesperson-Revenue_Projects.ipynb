{
 "cells": [
  {
   "cell_type": "markdown",
   "metadata": {
    "id": "VMuUK0ap_bRD"
   },
   "source": [
    "# Chapter 1\n",
    "### Your first day at your new job 👩‍💻👨‍💻\n",
    "\n",
    "You are starting a new job as a junior software developer in an IT company. \n",
    "\n",
    "The company’s HR department asks you to fill out a form, so you start by assigning your personal information to corresponding variables.\n",
    "\n",
    "📌 Create a variable for your name, surname, age, ID number, place of residence, to specify if you have active health insurance or not, and lastly one for specifying your nationality.\n"
   ]
  },
  {
   "cell_type": "code",
   "execution_count": 1,
   "metadata": {
    "id": "OPLhhc2Sp-D0"
   },
   "outputs": [],
   "source": [
    "#Please assign your personal information to variables\n",
    "my_name = \"Dilara\"\n",
    "my_surname = \"Simsek\"\n",
    "my_age = 22\n",
    "my_id = \"123456789\"\n",
    "my_residence = \"Turkey\"\n",
    "health_insurance = False\n",
    "my_nationality = \"Turkish\""
   ]
  },
  {
   "cell_type": "markdown",
   "metadata": {
    "id": "3zaUlxwcp-D0"
   },
   "source": [
    "###Meet And Greet\n",
    "Introduce yourself to your new co-workers.\n",
    "\n",
    "📌 Use a f-string to print \"My name is Joey Tribbiani I am 25 years old and I live in London”."
   ]
  },
  {
   "cell_type": "code",
   "execution_count": 2,
   "metadata": {
    "colab": {
     "base_uri": "https://localhost:8080/"
    },
    "id": "XNuh5_2WXwvg",
    "outputId": "127906d5-ae4d-48b9-f9b8-e06c1bfa6f39"
   },
   "outputs": [
    {
     "name": "stdout",
     "output_type": "stream",
     "text": [
      "My name is Dilara Simsek I am 22 years old and I live in Turkey.\n",
      "My name is Dilara Simsek I am 22 years old and I live in Turkey.\n"
     ]
    }
   ],
   "source": [
    "#Write a sentence using the print function to describe yourself using the variables above in the correct data type\n",
    "\n",
    "print(f\"My name is {my_name} {my_surname} I am {str(my_age)} years old and I live in {my_residence}.\")\n",
    "\n",
    "# This one is not the one that they wanted and its difficult to use ↓\n",
    "print(\"My name is \"+ my_name + \" \" + my_surname + \" I am \" + str(my_age) + \" years old and I live in \" + my_residence + \".\")"
   ]
  },
  {
   "cell_type": "markdown",
   "metadata": {
    "id": "EEL9To4ip-D1"
   },
   "source": [
    "### Equipment starter pack\n",
    "The HR department asks you to list the items you would need to improve your work efficiency\n",
    "\n",
    "Mandatory:\n",
    "* Laptop\n",
    "* Headset\n",
    "* Second monitor\n",
    "\n",
    "Optional:\n",
    "* Mousepad\n",
    "* USB drive\n",
    "* External drive\n",
    "\n",
    "\n",
    "📌 Create a shopping list that contains items above and print it."
   ]
  },
  {
   "cell_type": "code",
   "execution_count": 3,
   "metadata": {
    "id": "fPFBLDyqp-D2"
   },
   "outputs": [],
   "source": [
    "#Create the item_list\n",
    "item_list = ['Laptop', 'Headset', 'Second monitor', 'Mousepad', 'USB drive', 'External drive']"
   ]
  },
  {
   "cell_type": "code",
   "execution_count": 4,
   "metadata": {
    "colab": {
     "base_uri": "https://localhost:8080/"
    },
    "id": "358R_CN5U2-J",
    "outputId": "33502b11-20d5-43dc-e877-503312a39760"
   },
   "outputs": [
    {
     "name": "stdout",
     "output_type": "stream",
     "text": [
      "['Laptop', 'Headset', 'Second monitor', 'Mousepad', 'USB drive', 'External drive']\n"
     ]
    }
   ],
   "source": [
    "#Print the list\n",
    "print(item_list)"
   ]
  },
  {
   "cell_type": "markdown",
   "metadata": {
    "id": "5keEWjCyp-D2"
   },
   "source": [
    "####What is mandatory and what is optional?\n",
    "\n",
    "📌 Use list slicing to devide your list in two list: 'mandatory_item_list' and 'optional_item_list' and print both to the screen."
   ]
  },
  {
   "cell_type": "code",
   "execution_count": 5,
   "metadata": {
    "id": "E6ewuDYZp-D2"
   },
   "outputs": [],
   "source": [
    "#Use list slicing to divide the mandatory items\n",
    "mandatory_item_list = item_list[0:3]"
   ]
  },
  {
   "cell_type": "code",
   "execution_count": 6,
   "metadata": {
    "id": "hOmkym01RGEL"
   },
   "outputs": [],
   "source": [
    "#Use list slicing to divide the optional items\n",
    "optional_item_list = item_list[3:6]"
   ]
  },
  {
   "cell_type": "code",
   "execution_count": 7,
   "metadata": {
    "colab": {
     "base_uri": "https://localhost:8080/"
    },
    "id": "xsVv1_msVE1_",
    "outputId": "9bf64c1e-f9d4-47c5-c148-bf01c494f892"
   },
   "outputs": [
    {
     "name": "stdout",
     "output_type": "stream",
     "text": [
      "['Laptop', 'Headset', 'Second monitor']\n",
      "['Mousepad', 'USB drive', 'External drive']\n"
     ]
    }
   ],
   "source": [
    "#Print both to the screen\n",
    "print(mandatory_item_list)\n",
    "print(optional_item_list)"
   ]
  },
  {
   "cell_type": "markdown",
   "metadata": {
    "id": "s_M1Q93wp-D3"
   },
   "source": [
    "#### Go Shopping\n",
    "Next, you will have to go and purchase these items, the finance department confirmed a budget of $5000.\n",
    "\n",
    "📌 Assign 5000 to a variable called limit, so you know how much you can spend."
   ]
  },
  {
   "cell_type": "code",
   "execution_count": 8,
   "metadata": {
    "id": "nCmpm0oqp-D3"
   },
   "outputs": [],
   "source": [
    "#Assign the spending limit value to a variable called limit\n",
    "spending_limit = 5000"
   ]
  },
  {
   "cell_type": "markdown",
   "metadata": {
    "id": "VwbEEymVp-D3"
   },
   "source": [
    "####Price dictionary\n",
    "\n",
    "Before you start shopping yo need to find the best items that you can buy within the company budget. \n",
    "\n",
    "📌 Prepare a dictionary called “price_sheet” that includes the items as keys and the prices as values.  \n",
    " "
   ]
  },
  {
   "cell_type": "code",
   "execution_count": 9,
   "metadata": {
    "id": "9o9n9Ag-p-D3"
   },
   "outputs": [],
   "source": [
    "#Create a dictionary that contains each item and its price\n",
    "price_sheet = {'Laptop': 1500, 'Headset':100, 'Second monitor':200, 'Mousepad':50, 'USB drive':70, 'External drive':250}"
   ]
  },
  {
   "cell_type": "markdown",
   "metadata": {
    "id": "rUYivBVEBhCv"
   },
   "source": [
    "####Shopping functions\n",
    "\n",
    "You need to define three functions that will help you during shopping.\n",
    "\n",
    "📌 First, create an empty list that  will be your shopping cart. Here you will add the items you need to purchase.\n",
    "\n",
    "1. Define a function for both adding items to the cart and removing them from the item_list.\n",
    "\n",
    "📌 The \"add_to_cart\" function should take the item name and the quantity to buy as an argument. \n",
    "\n",
    "2. Define a function that will create an invoice. \n",
    "\n",
    "📌 The \"create_invoice\" function should calculate the taxes of each item (18%) and add it to the total amount.\n",
    "\n",
    "3. Define a function for the checkout. \n",
    "\n",
    "📌 The \"checkout\" function should subtract the total amount from the budget and print a statement to inform if the payment was successful. "
   ]
  },
  {
   "cell_type": "code",
   "execution_count": 10,
   "metadata": {
    "id": "dBNZ2ZdkGHUe"
   },
   "outputs": [],
   "source": [
    "#Initialize the cart list\n",
    "cart = []"
   ]
  },
  {
   "cell_type": "code",
   "execution_count": 11,
   "metadata": {
    "id": "HH26hHHFGKPJ"
   },
   "outputs": [],
   "source": [
    "#Define the \"add_to_cart\" function\n",
    "def add_to_cart(item, quantity):\n",
    "    cart.append((item, quantity))\n",
    "    print(f\"{quantity} {item}(s) added to cart.\")\n",
    "    item_list.remove(item)"
   ]
  },
  {
   "cell_type": "code",
   "execution_count": 12,
   "metadata": {
    "id": "TUmNr4xVGQdm"
   },
   "outputs": [],
   "source": [
    "#Define the \"create_invoice\" function\n",
    "def create_invoice():\n",
    "    total_amount_inc_tax = 0\n",
    "    for item, quantity in cart:\n",
    "      price = price_sheet[item]\n",
    "      tax = 0.18 * price\n",
    "      total = (tax + price)*quantity\n",
    "      total_amount_inc_tax += total\n",
    "      print('Item: ', item, '\\t', 'Price: ', price, '\\t', 'Quantity: ', quantity, '\\t', 'Tax: ', tax, '\\t', 'Total: ', total, '\\n')\n",
    "    print(\"After the taxes are applied the total amount is: \", '\\t',  total_amount_inc_tax )\n",
    "    return total_amount_inc_tax"
   ]
  },
  {
   "cell_type": "code",
   "execution_count": 13,
   "metadata": {
    "id": "iUlKiXgMGdIk"
   },
   "outputs": [],
   "source": [
    "#Define the \"checkout\" function\n",
    "def checkout():\n",
    "    global spending_limit\n",
    "    total_amount = create_invoice()\n",
    "    if spending_limit == 0:\n",
    "        print(\"You don't have any budget\")\n",
    "    elif total_amount > spending_limit:\n",
    "        print(\"The amount you have to pay is above the spending limit. You have to drop some items.\")\n",
    "    else:\n",
    "      spending_limit -= total_amount\n",
    "      print(f\"The total amount (including taxes) you've paid is {total_amount}. You have {spending_limit} dollars left.\")\n"
   ]
  },
  {
   "cell_type": "markdown",
   "metadata": {
    "id": "2IFUlu0yB0In"
   },
   "source": [
    "Let's shop!"
   ]
  },
  {
   "cell_type": "code",
   "execution_count": 14,
   "metadata": {
    "colab": {
     "base_uri": "https://localhost:8080/"
    },
    "id": "FDO7CRJTWPg7",
    "outputId": "2893aa69-0443-499d-829e-cb30704daf84"
   },
   "outputs": [
    {
     "name": "stdout",
     "output_type": "stream",
     "text": [
      "1 Laptop(s) added to cart.\n",
      "3 Headset(s) added to cart.\n",
      "2 Second monitor(s) added to cart.\n",
      "2 Mousepad(s) added to cart.\n",
      "1 USB drive(s) added to cart.\n",
      "1 External drive(s) added to cart.\n",
      "Item:  Laptop \t Price:  1500 \t Quantity:  1 \t Tax:  270.0 \t Total:  1770.0 \n",
      "\n",
      "Item:  Headset \t Price:  100 \t Quantity:  3 \t Tax:  18.0 \t Total:  354.0 \n",
      "\n",
      "Item:  Second monitor \t Price:  200 \t Quantity:  2 \t Tax:  36.0 \t Total:  472.0 \n",
      "\n",
      "Item:  Mousepad \t Price:  50 \t Quantity:  2 \t Tax:  9.0 \t Total:  118.0 \n",
      "\n",
      "Item:  USB drive \t Price:  70 \t Quantity:  1 \t Tax:  12.6 \t Total:  82.6 \n",
      "\n",
      "Item:  External drive \t Price:  250 \t Quantity:  1 \t Tax:  45.0 \t Total:  295.0 \n",
      "\n",
      "After the taxes are applied the total amount is:  \t 3091.6\n",
      "The total amount (including taxes) you've paid is 3091.6. You have 1908.4 dollars left.\n"
     ]
    }
   ],
   "source": [
    "#Call the \"add_to_cart\" function for each item\n",
    " \n",
    "#Add first item to cart\n",
    "add_to_cart(\"Laptop\", 1)\n",
    " \n",
    "#Add second item to cart\n",
    "add_to_cart(\"Headset\", 3)\n",
    " \n",
    "#Add third item to cart\n",
    "add_to_cart(\"Second monitor\", 2)\n",
    " \n",
    "#Add fourth item to cart\n",
    "add_to_cart(\"Mousepad\", 2)\n",
    " \n",
    "#Add fifth item to cart\n",
    "add_to_cart(\"USB drive\", 1)\n",
    " \n",
    "#Add last item to cart\n",
    "add_to_cart(\"External drive\", 1)\n",
    "\n",
    " \n",
    "#Call the create \"checkout\" function to pay for all your items \n",
    "checkout()"
   ]
  },
  {
   "cell_type": "markdown",
   "metadata": {
    "id": "ZL-r2x_xKixg"
   },
   "source": [
    "###Game Night\n",
    "\n",
    "You are back at the office and the HR department organizes a welcome party for new employees. \n",
    "\n",
    "You decide to create a Rock-Paper-Scissor game. \n",
    "\n",
    "📌 Create a Rock-Paper-Scissor game in which the user plays against the computer. The player will choose one of the actions, and the computer will choose its action randomly.\n"
   ]
  },
  {
   "cell_type": "code",
   "execution_count": 15,
   "metadata": {
    "id": "qzD5pxBTgcFb"
   },
   "outputs": [],
   "source": [
    "#Import the random library\n",
    "import random"
   ]
  },
  {
   "cell_type": "code",
   "execution_count": 16,
   "metadata": {
    "id": "oJv-ihLAgcRo"
   },
   "outputs": [],
   "source": [
    "#create a list containing the three actions of the game.\n",
    "action_list = ['rock', 'paper', 'scissors']"
   ]
  },
  {
   "cell_type": "code",
   "execution_count": 17,
   "metadata": {
    "colab": {
     "base_uri": "https://localhost:8080/"
    },
    "id": "DNUa_9afWqMd",
    "outputId": "2c116738-4db5-45b0-9a2e-482fdf7ee6df"
   },
   "outputs": [
    {
     "name": "stdout",
     "output_type": "stream",
     "text": [
      "how many rounds you want to play? Please enter a number in here: 3\n",
      "Round number:  1\n",
      "Pleas choose your action: rock\n",
      "Computer:  paper\n",
      "Player:  rock\n",
      "Winner is: Computer\n",
      "Round number:  2\n",
      "Pleas choose your action: scissors\n",
      "Computer:  rock\n",
      "Player:  scissors\n",
      "Winner is: Computer\n",
      "Round number:  3\n",
      "Pleas choose your action: paper\n",
      "Computer:  scissors\n",
      "Player:  paper\n",
      "Winner is: Computer\n",
      "Computer won with score:  3  :  0\n"
     ]
    }
   ],
   "source": [
    "#Set the scores of players to 0\n",
    "computer_score = 0\n",
    "player_score = 0\n",
    "\n",
    "#Ask the user how many rounds they want to play\n",
    "total_rounds = input('how many rounds you want to play? Please enter a number in here: ')\n",
    "\n",
    "#Add a round_counter that is 0 at the beginning\n",
    "round_counter = 0\n",
    "\n",
    "#Write a while loop and put the game inside\n",
    "while True:\n",
    "\n",
    "  #Increase round_counter by and print it\n",
    "  round_counter += 1\n",
    "  print(\"Round number: \", round_counter)\n",
    "\n",
    "\n",
    "  #Select a random action for computer\n",
    "  computer_choice = random.choice(action_list)\n",
    "\n",
    "  #Ask player to choose an action\n",
    "  player_choice = input(\"Pleas choose your action: \")\n",
    "\n",
    "  #Print the players choices\n",
    "  print(\"Computer: \" , computer_choice)\n",
    "  print(\"Player: \" , player_choice)\n",
    "  \n",
    "\n",
    "\n",
    "  #tie condition\n",
    "  if computer_choice == player_choice:\n",
    "    print(\"Tie! Both players chose the same action\")\n",
    "\n",
    "  #Remaining conditions\n",
    "  \n",
    "  elif computer_choice == 'paper':\n",
    "    if player_choice == 'rock':\n",
    "      print(\"Winner is: Computer\")\n",
    "      computer_score += 1\n",
    "    else:\n",
    "      print(\"Winner is: Player\")\n",
    "      player_score += 1\n",
    "\n",
    "  elif computer_choice == 'rock':\n",
    "    if player_choice == 'paper':\n",
    "      print(\"Winner is: Player\")\n",
    "      player_score += 1\n",
    "    else:\n",
    "      print(\"Winner is: Computer\")\n",
    "      computer_score += 1\n",
    "  elif computer_choice == 'scissors':\n",
    "    if player_choice == 'paper':\n",
    "      print(\"Winner is: Computer\")\n",
    "      computer_score += 1\n",
    "    else:\n",
    "      print(\"Winner is: Player\")\n",
    "      player_score += 1\n",
    "\n",
    "\n",
    "  #Stop the while loop if the round_counter equals the number of total rounds\n",
    "  if round_counter == int(total_rounds):\n",
    "    break\n",
    "\n",
    "\n",
    "#Print the outcome of the game by using conditional statements\n",
    "if computer_score == player_score:\n",
    "  print(\"There is no winner, tie. \", computer_score, \" : \", player_score)\n",
    "elif computer_score > player_score:\n",
    "  print(\"Computer won with score: \", computer_score, \" : \", player_score)\n",
    "elif computer_score < player_score:\n",
    "  print(\"Player won with score: \", computer_score, \" : \", player_score)"
   ]
  },
  {
   "cell_type": "markdown",
   "metadata": {
    "id": "jdrYN0Xgp-D6"
   },
   "source": [
    "# Your first task \n",
    "\n",
    "Rachel asks you to write a program to track the name and revenue each employee brings.  \n",
    "\n",
    "* Create the \"salesperson_revenue\" dictionary to see the employee name as a key and the revenue as a value.\n",
    "\n",
    "  📌 Every employee starts with 0 revenue.\n",
    "* Define the \"enter_revenue\" function. \n",
    "\n",
    "  📌 The function takes the name and revenue as an argument and updates the salesperson_revenue dictionary.\n"
   ]
  },
  {
   "cell_type": "code",
   "execution_count": 18,
   "metadata": {
    "id": "3vzRo7hyMRv2"
   },
   "outputs": [],
   "source": [
    "#Create salesperson_revenue dictionary\n",
    "\n",
    "salesperson_revenue = {\"Ben\":0, \"Omer\":0, \"Karen\":0, \"Celine\":0, \"Sue\":0, \"Bora\":0, \"Rose\":0, \"Ellen\":0}"
   ]
  },
  {
   "cell_type": "code",
   "execution_count": 19,
   "metadata": {
    "id": "m-8IozBwMRzM"
   },
   "outputs": [],
   "source": [
    "#Define enter_revenue function\n",
    "def enter_revenue (name, revenue):\n",
    "  global salesperson_revenue\n",
    "  salesperson_revenue[name] += revenue"
   ]
  },
  {
   "cell_type": "markdown",
   "metadata": {
    "id": "UnTGSoNTi58u"
   },
   "source": [
    "####Try out the functions\n",
    "* In a while loop ask the user to give the name of the employee and for the revenue \n",
    "\n",
    "  📌 If the user enters “quit” the loop should break.\n",
    "\n",
    "After that, print out the salesperson_revenue dictionary.\n"
   ]
  },
  {
   "cell_type": "code",
   "execution_count": 20,
   "metadata": {
    "colab": {
     "base_uri": "https://localhost:8080/"
    },
    "id": "2E549VvFXNi6",
    "outputId": "ca7cd4c3-3c4c-4a6a-aff8-0e4110ea818b"
   },
   "outputs": [
    {
     "name": "stdout",
     "output_type": "stream",
     "text": [
      "Employee name: Ben\n",
      "Enter revenue: 300\n",
      "Ben's revenue is 300\n",
      "Employee name: quit\n"
     ]
    }
   ],
   "source": [
    "#Asking user employee name as input\n",
    "while True:\n",
    "  name = input(\"Employee name: \")\n",
    "  if name == \"quit\":\n",
    "    break\n",
    "  revenue = int(input(\"Enter revenue: \"))\n",
    "  enter_revenue(name, revenue)\n",
    "  print(f\"{name}'s revenue is {salesperson_revenue[name]}\")"
   ]
  },
  {
   "cell_type": "code",
   "execution_count": 21,
   "metadata": {
    "colab": {
     "base_uri": "https://localhost:8080/"
    },
    "id": "OAvl9rgOXPe6",
    "outputId": "f03a009a-bfce-442f-b602-ec56e0a591af"
   },
   "outputs": [
    {
     "name": "stdout",
     "output_type": "stream",
     "text": [
      "{'Ben': 300, 'Omer': 0, 'Karen': 0, 'Celine': 0, 'Sue': 0, 'Bora': 0, 'Rose': 0, 'Ellen': 0}\n"
     ]
    }
   ],
   "source": [
    "#Print the salesperson_revenue dictionary\n",
    "print(salesperson_revenue)"
   ]
  }
 ],
 "metadata": {
  "colab": {
   "provenance": []
  },
  "interpreter": {
   "hash": "c5914ae3790566b9cd0e984a9bdda42a29da8adf046b5ac0173e0d37aacf3dab"
  },
  "kernelspec": {
   "display_name": "Python 3",
   "language": "python",
   "name": "python3"
  },
  "language_info": {
   "codemirror_mode": {
    "name": "ipython",
    "version": 3
   },
   "file_extension": ".py",
   "mimetype": "text/x-python",
   "name": "python",
   "nbconvert_exporter": "python",
   "pygments_lexer": "ipython3",
   "version": "3.9.1"
  }
 },
 "nbformat": 4,
 "nbformat_minor": 1
}
